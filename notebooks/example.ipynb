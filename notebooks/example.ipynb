{
 "cells": [
  {
   "cell_type": "code",
   "execution_count": 4,
   "metadata": {},
   "outputs": [],
   "source": [
    "import sys\n",
    "sys.path.append('/Users/S/Desktop/projects/stats_simulations/')"
   ]
  },
  {
   "cell_type": "code",
   "execution_count": 16,
   "metadata": {},
   "outputs": [],
   "source": [
    "from stats_simulations.fprp import calc_fprp\n",
    "\n",
    "import matplotlib.pyplot as plt"
   ]
  },
  {
   "cell_type": "code",
   "execution_count": 18,
   "metadata": {},
   "outputs": [
    {
     "data": {
      "text/plain": [
       "Text(0, 0.5, 'fprp')"
      ]
     },
     "execution_count": 18,
     "metadata": {},
     "output_type": "execute_result"
    },
    {
     "data": {
      "image/png": "[encoded data removed]",
      "text/plain": [
       "<Figure size 432x288 with 1 Axes>"
      ]
     },
     "metadata": {
      "needs_background": "light"
     },
     "output_type": "display_data"
    }
   ],
   "source": [
    "# Effect of prior probability\n",
    "prior_probabilites=[0.1, 0.2, 0.3, 0.4, 0.5, 0.6, 0.7, 0.8, 0.9, 1.0]\n",
    "fprps=[]\n",
    "\n",
    "for p in prior_probabilites:\n",
    "    fprp = calc_fprp(\n",
    "        comparisons=1000,\n",
    "        prior_probability=p,\n",
    "        power=0.8,\n",
    "        stats_sig_level=0.05\n",
    "    )\n",
    "    fprps.append(fprp)\n",
    "\n",
    "plt.scatter(x=prior_probabilites, y=fprps)\n",
    "plt.xlabel(\"prior probabilities\")\n",
    "plt.ylabel(\"fprp\")"
   ]
  },
  {
   "cell_type": "markdown",
   "metadata": {},
   "source": [
    "The more certain our priors, lower the false positive rate (i.e. less chance that a statistically significant results is a false positive)"
   ]
  },
  {
   "cell_type": "code",
   "execution_count": 23,
   "metadata": {},
   "outputs": [
    {
     "data": {
      "text/plain": [
       "Text(0, 0.5, 'fprp')"
      ]
     },
     "execution_count": 23,
     "metadata": {},
     "output_type": "execute_result"
    },
    {
     "data": {
      "image/png": "[encoded data removed]",
      "text/plain": [
       "<Figure size 432x288 with 1 Axes>"
      ]
     },
     "metadata": {
      "needs_background": "light"
     },
     "output_type": "display_data"
    }
   ],
   "source": [
    "# Effect of comparisons\n",
    "powers=[0.10, 0.2, 0.5, 0.8, 0.9]\n",
    "fprps=[]\n",
    "\n",
    "for p in powers:\n",
    "    fprp = calc_fprp(\n",
    "        comparisons=1000,\n",
    "        prior_probability=0.5,\n",
    "        power=p,\n",
    "        stats_sig_level=0.05\n",
    "    )\n",
    "    fprps.append(fprp)\n",
    "\n",
    "plt.scatter(x=powers, y=fprps)\n",
    "plt.xlabel(\"power\")\n",
    "plt.ylabel(\"fprp\")"
   ]
  },
  {
   "cell_type": "markdown",
   "metadata": {},
   "source": [
    "Higher the power, lower the false positive rate (i.e. less chance that a statistically significant results is a false positive)"
   ]
  },
  {
   "cell_type": "code",
   "execution_count": 24,
   "metadata": {},
   "outputs": [
    {
     "data": {
      "text/plain": [
       "Text(0, 0.5, 'fprp')"
      ]
     },
     "execution_count": 24,
     "metadata": {},
     "output_type": "execute_result"
    },
    {
     "data": {
      "image/png": "[encoded data removed]",
      "text/plain": [
       "<Figure size 432x288 with 1 Axes>"
      ]
     },
     "metadata": {
      "needs_background": "light"
     },
     "output_type": "display_data"
    }
   ],
   "source": [
    "# Effect of comparisons\n",
    "sig_figs=[0.01, 0.05, 0.10, 0.2, 0.3]\n",
    "fprps=[]\n",
    "\n",
    "for s in sig_figs:\n",
    "    fprp = calc_fprp(\n",
    "        comparisons=1000,\n",
    "        prior_probability=0.5,\n",
    "        power=0.8,\n",
    "        stats_sig_level=s\n",
    "    )\n",
    "    fprps.append(fprp)\n",
    "\n",
    "plt.scatter(x=sig_figs, y=fprps)\n",
    "plt.xlabel(\"alpha\")\n",
    "plt.ylabel(\"fprp\")"
   ]
  },
  {
   "cell_type": "markdown",
   "metadata": {},
   "source": [
    "The larger our threshold for statistical significance, the larger the false positive rate."
   ]
  }
 ],
 "metadata": {
  "kernelspec": {
   "display_name": "Python 3.9.1 64-bit",
   "language": "python",
   "name": "python3"
  },
  "language_info": {
   "codemirror_mode": {
    "name": "ipython",
    "version": 3
   },
   "file_extension": ".py",
   "mimetype": "text/x-python",
   "name": "python",
   "nbconvert_exporter": "python",
   "pygments_lexer": "ipython3",
   "version": "3.9.1"
  },
  "orig_nbformat": 4,
  "vscode": {
   "interpreter": {
    "hash": "aee8b7b246df8f9039afb4144a1f6fd8d2ca17a180786b69acc140d282b71a49"
   }
  }
 },
 "nbformat": 4,
 "nbformat_minor": 2
}
